{
 "cells": [
  {
   "cell_type": "code",
   "execution_count": 19,
   "id": "9bd2ba3c",
   "metadata": {},
   "outputs": [
    {
     "name": "stdout",
     "output_type": "stream",
     "text": [
      "Enter Percentage of user58\n",
      "grad of user B+\n"
     ]
    }
   ],
   "source": [
    "#1.Accept the percentage from the user and display the grade According to the  criteria2\n",
    "a =int(input(\"Enter Percentage of user\"))\n",
    "if a<=25:\n",
    "    print(\"grad of user D\")\n",
    "    \n",
    "elif a>=25 and a<=45:\n",
    "    print(\"grad of user C\")\n",
    "elif a>=45 and a<=50:\n",
    "    print(\"grad of user B\")\n",
    "elif a>=50 and a<=60:\n",
    "    print(\"grad of user B+\")\n",
    "elif a>=60 and a<=80:\n",
    "    print(\"grad of user A\")\n",
    "elif a<80:\n",
    "    print(\"grad of user A+\")\n",
    "else:\n",
    "    print(\"invalid\")\n",
    "\n",
    "\n",
    "    \n"
   ]
  }
 ],
 "metadata": {
  "kernelspec": {
   "display_name": "Python 3 (ipykernel)",
   "language": "python",
   "name": "python3"
  },
  "language_info": {
   "codemirror_mode": {
    "name": "ipython",
    "version": 3
   },
   "file_extension": ".py",
   "mimetype": "text/x-python",
   "name": "python",
   "nbconvert_exporter": "python",
   "pygments_lexer": "ipython3",
   "version": "3.9.7"
  }
 },
 "nbformat": 4,
 "nbformat_minor": 5
}
