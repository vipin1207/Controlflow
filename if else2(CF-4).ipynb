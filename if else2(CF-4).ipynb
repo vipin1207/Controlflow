{
 "cells": [
  {
   "cell_type": "code",
   "execution_count": 14,
   "id": "5169f533",
   "metadata": {},
   "outputs": [
    {
     "name": "stdout",
     "output_type": "stream",
     "text": [
      "Enter the age of workers :25\n",
      "Enter the Sex of workers:  M\n",
      "Enter the wage/day of workers: 500\n",
      "350000\n"
     ]
    }
   ],
   "source": [
    "#8. to display wages\n",
    "A =int(input(\"Enter the age of workers :\"))\n",
    "S= input(\"Enter the Sex of workers:  \")\n",
    "w= int(input(\"Enter the wage/day of workers: \"))\n",
    "if A>=18 and A<30  and S.upper () =='M':\n",
    "    amount=w*700\n",
    "    print(amount)\n",
    "elif A>=18 and A<30 and S.upper () == 'F':\n",
    "    amount=w*750\n",
    "    print(amount)\n",
    "elif A>=30 and A<=40 and S.upper () == 'M':\n",
    "    amount=w*800\n",
    "    print(amount)\n",
    "elif A>=30 and A<=40 and S.upper () == 'F':\n",
    "    amount=w*850\n",
    "    print(amount)\n",
    "else:\n",
    "    print(\"Invalid\")\n",
    "\n",
    "\n",
    "\n",
    "    \n",
    "    \n",
    "\n"
   ]
  },
  {
   "cell_type": "code",
   "execution_count": null,
   "id": "7593cc44",
   "metadata": {},
   "outputs": [],
   "source": []
  },
  {
   "cell_type": "code",
   "execution_count": null,
   "id": "e4902c2a",
   "metadata": {},
   "outputs": [],
   "source": []
  }
 ],
 "metadata": {
  "kernelspec": {
   "display_name": "Python 3 (ipykernel)",
   "language": "python",
   "name": "python3"
  },
  "language_info": {
   "codemirror_mode": {
    "name": "ipython",
    "version": 3
   },
   "file_extension": ".py",
   "mimetype": "text/x-python",
   "name": "python",
   "nbconvert_exporter": "python",
   "pygments_lexer": "ipython3",
   "version": "3.9.7"
  }
 },
 "nbformat": 4,
 "nbformat_minor": 5
}
