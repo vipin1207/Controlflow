{
 "cells": [
  {
   "cell_type": "code",
   "execution_count": 2,
   "id": "a1b9bc38",
   "metadata": {},
   "outputs": [
    {
     "name": "stdout",
     "output_type": "stream",
     "text": [
      " Enter the side of Triangle of a : 12\n",
      "Enter the side of Triangle of b  : 15\n",
      "Enter the side of Triangle of c  : 13\n",
      "the triangle is scalene triangle\n"
     ]
    }
   ],
   "source": [
    "#3.Accept three sides of a triangle and check whether it is an equilateral,isosceles and scalene triangle.\n",
    "a = int(input(\" Enter the side of Triangle of a : \"))\n",
    "b = int(input(\"Enter the side of Triangle of b  : \"))\n",
    "c = int(input(\"Enter the side of Triangle of c  : \"))\n",
    "\n",
    "if a == b == c:\n",
    "    print(\" the triangle is an equilateral trianglr \")\n",
    "elif a == b != c:\n",
    "    print(\" the triangle is isosceles triangle \")\n",
    "elif a != b != c :\n",
    "    print(\"the triangle is scalene triangle\"   )\n",
    "else:\n",
    "    print(\"the triangle is not possible \"     )\n",
    "\n",
    "\n",
    "    \n"
   ]
  },
  {
   "cell_type": "code",
   "execution_count": null,
   "id": "4bc7534d",
   "metadata": {},
   "outputs": [],
   "source": []
  }
 ],
 "metadata": {
  "kernelspec": {
   "display_name": "Python 3 (ipykernel)",
   "language": "python",
   "name": "python3"
  },
  "language_info": {
   "codemirror_mode": {
    "name": "ipython",
    "version": 3
   },
   "file_extension": ".py",
   "mimetype": "text/x-python",
   "name": "python",
   "nbconvert_exporter": "python",
   "pygments_lexer": "ipython3",
   "version": "3.9.7"
  }
 },
 "nbformat": 4,
 "nbformat_minor": 5
}
