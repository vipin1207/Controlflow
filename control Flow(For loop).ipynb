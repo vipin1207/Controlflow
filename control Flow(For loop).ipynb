{
 "cells": [
  {
   "cell_type": "code",
   "execution_count": 4,
   "id": "4308f55c",
   "metadata": {},
   "outputs": [
    {
     "name": "stdout",
     "output_type": "stream",
     "text": [
      "2 4 6 8 10 12 14 16 18 "
     ]
    }
   ],
   "source": [
    "#1.to print first 10 odd numers\n",
    "for i in range(2,20,2):\n",
    "    print(i, end=\" \")\n"
   ]
  },
  {
   "cell_type": "code",
   "execution_count": 5,
   "id": "776da8cb",
   "metadata": {},
   "outputs": [
    {
     "name": "stdout",
     "output_type": "stream",
     "text": [
      "1 3 5 7 9 11 13 15 17 19 "
     ]
    }
   ],
   "source": [
    "#2.print first 10 odd number\n",
    "for i in range(1,20,2):\n",
    "    print(i, end=\" \")"
   ]
  },
  {
   "cell_type": "code",
   "execution_count": 6,
   "id": "18205658",
   "metadata": {},
   "outputs": [
    {
     "name": "stdout",
     "output_type": "stream",
     "text": [
      "20 18 16 14 12 10 8 6 4 2 "
     ]
    }
   ],
   "source": [
    "#3.print 10 even number in reverse order\n",
    "for i in range(20,0,-2):\n",
    "    print(i, end=\" \")\n"
   ]
  },
  {
   "cell_type": "code",
   "execution_count": 3,
   "id": "18018dd3",
   "metadata": {},
   "outputs": [
    {
     "name": "stdout",
     "output_type": "stream",
     "text": [
      "Enter a number5\n",
      "Factorial = 5\n",
      "Factorial = 20\n",
      "Factorial = 60\n",
      "Factorial = 120\n",
      "Factorial = 120\n"
     ]
    }
   ],
   "source": [
    "#4.the factorial of a number\n",
    "i= int(input(\"Enter a number\"))\n",
    "fac=1\n",
    "while(i>0):\n",
    "    fac=fac*i\n",
    "    i=i-1\n",
    "    print(\"Factorial =\",fac)"
   ]
  },
  {
   "cell_type": "code",
   "execution_count": 6,
   "id": "4adba69c",
   "metadata": {},
   "outputs": [
    {
     "name": "stdout",
     "output_type": "stream",
     "text": [
      " Enter the number8\n",
      "not a prime number\n",
      "not a prime number\n",
      "prime number\n"
     ]
    }
   ],
   "source": [
    "#5.Number is prime or not\n",
    "n = int(input(\" Enter the number\"))\n",
    "if n<2:\n",
    "    print(\"Not a prime number\")\n",
    "else:\n",
    "    for i in range(2, n):\n",
    "        if n%i == 0:\n",
    "            print('not a prime number')\n",
    "    else:\n",
    "        print(\"prime number\")\n",
    "    \n",
    "    \n",
    "    \n",
    "\n",
    "    "
   ]
  },
  {
   "cell_type": "code",
   "execution_count": 17,
   "id": "cee29d79",
   "metadata": {},
   "outputs": [
    {
     "name": "stdout",
     "output_type": "stream",
     "text": [
      "Enter a number : 4\n"
     ]
    }
   ],
   "source": [
    "#6. To print number from 1 to 20 except multiple of 2&3\n",
    "n = int(input('Enter a number : '))\n",
    "if n%2 ==0 and n%3 == 0:\n",
    "    for i in  range(1,21):\n",
    "        if n%i==0:\n",
    "            print(\" not multiple of 2&3\")\n",
    "    else:\n",
    "        print(\"multiple of 2&3 number\" )\n",
    "    \n"
   ]
  },
  {
   "cell_type": "code",
   "execution_count": 31,
   "id": "5f710dda",
   "metadata": {},
   "outputs": [
    {
     "name": "stdout",
     "output_type": "stream",
     "text": [
      "Enter number:   12\n",
      "Average of numbers = 1.20\n",
      "Enter number:   15\n",
      "Average of numbers = 2.70\n",
      "Enter number:   45\n",
      "Average of numbers = 7.20\n",
      "Enter number:   5\n",
      "Average of numbers = 7.70\n",
      "Enter number:   4\n",
      "Average of numbers = 8.10\n",
      "Enter number:   8\n",
      "Average of numbers = 8.90\n",
      "Enter number:   7\n",
      "Average of numbers = 9.60\n",
      "Enter number:   9\n",
      "Average of numbers = 10.50\n",
      "Enter number:   2\n",
      "Average of numbers = 10.70\n",
      "Enter number:   89\n",
      "Average of numbers = 19.60\n"
     ]
    }
   ],
   "source": [
    "#7.write a program to accept 10 numbers from the user and display its average\n",
    "total_sum = 0\n",
    "for i in range (10):\n",
    "    num = float(input(\"Enter number:   \"))\n",
    "    total_sum += num\n",
    "    avg = total_sum/10\n",
    "    print(\"Average of numbers = %0.2f\" %avg)\n",
    "                 \n",
    "                 \n",
    "\n"
   ]
  },
  {
   "cell_type": "code",
   "execution_count": 35,
   "id": "873ef0a8",
   "metadata": {},
   "outputs": [
    {
     "name": "stdout",
     "output_type": "stream",
     "text": [
      "Enter 10 number of elements in list: 1\n",
      "Enter elements: 2\n",
      "Smallest element in list is : 2\n",
      "Largest element in list is  : 2\n",
      "Enter elements: 3\n",
      "Smallest element in list is : 2\n",
      "Largest element in list is  : 3\n",
      "Enter elements: 4\n",
      "Smallest element in list is : 2\n",
      "Largest element in list is  : 4\n",
      "Enter elements: 5\n",
      "Smallest element in list is : 2\n",
      "Largest element in list is  : 5\n",
      "Enter elements: 6\n",
      "Smallest element in list is : 2\n",
      "Largest element in list is  : 6\n",
      "Enter elements: 7\n",
      "Smallest element in list is : 2\n",
      "Largest element in list is  : 7\n",
      "Enter elements: 8\n",
      "Smallest element in list is : 2\n",
      "Largest element in list is  : 8\n",
      "Enter elements: 9\n",
      "Smallest element in list is : 2\n",
      "Largest element in list is  : 9\n",
      "Enter elements: 10\n",
      "Smallest element in list is : 2\n",
      "Largest element in list is  : 10\n",
      "Enter elements: 11\n",
      "Smallest element in list is : 2\n",
      "Largest element in list is  : 11\n"
     ]
    }
   ],
   "source": [
    "#8.\n",
    "listn = []\n",
    "num = int(input(\"Enter 10 number of elements in list: \"))\n",
    "for i in range(1,11):\n",
    "    element=int(input(\"Enter elements: \"))\n",
    "    listn.append(element)\n",
    "    print(\"Smallest element in list is :\" , min(listn))\n",
    "    print(\"Largest element in list is  :\",  max(listn))"
   ]
  },
  {
   "cell_type": "code",
   "execution_count": 37,
   "id": "49c59225",
   "metadata": {},
   "outputs": [
    {
     "name": "stdout",
     "output_type": "stream",
     "text": [
      "23 45 25 33 71 "
     ]
    }
   ],
   "source": [
    "#9.write a program to print only odd numbers from the given list using for loop\n",
    "list1 = [23,45,32,25,46,33,71,90]\n",
    "for num in list1:\n",
    "    if num % 2 != 0:\n",
    "        print(num, end=\" \")\n",
    "    "
   ]
  },
  {
   "cell_type": "code",
   "execution_count": 42,
   "id": "48df0759",
   "metadata": {},
   "outputs": [
    {
     "name": "stdout",
     "output_type": "stream",
     "text": [
      "5 5 5 5 5 \n",
      "4 4 4 4 \n",
      "3 3 3 \n",
      "2 2 \n",
      "1 \n"
     ]
    }
   ],
   "source": [
    "#10. write a program to print the following pattern\n",
    "for i in range(5,0,-1):\n",
    "    for j in range(0,i ):\n",
    "        print(i, end=\" \")\n",
    "    print()\n",
    "    \n"
   ]
  },
  {
   "cell_type": "code",
   "execution_count": null,
   "id": "cc4087a1",
   "metadata": {},
   "outputs": [],
   "source": []
  }
 ],
 "metadata": {
  "kernelspec": {
   "display_name": "Python 3 (ipykernel)",
   "language": "python",
   "name": "python3"
  },
  "language_info": {
   "codemirror_mode": {
    "name": "ipython",
    "version": 3
   },
   "file_extension": ".py",
   "mimetype": "text/x-python",
   "name": "python",
   "nbconvert_exporter": "python",
   "pygments_lexer": "ipython3",
   "version": "3.9.7"
  }
 },
 "nbformat": 4,
 "nbformat_minor": 5
}
