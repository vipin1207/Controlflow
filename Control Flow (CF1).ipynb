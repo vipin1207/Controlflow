{
 "cells": [
  {
   "cell_type": "code",
   "execution_count": 5,
   "id": "9e479dee",
   "metadata": {},
   "outputs": [
    {
     "name": "stdout",
     "output_type": "stream",
     "text": [
      " Enter the number14\n",
      "Number is divisible by 7\n"
     ]
    }
   ],
   "source": [
    "n = int(input(\" Enter the number\"))\n",
    "if n % 7==0:\n",
    "    print(\"Number is divisible by 7\")\n",
    "else:\n",
    "    print(\"Number is not divisible by 7\")\n",
    "\n"
   ]
  },
  {
   "cell_type": "code",
   "execution_count": 7,
   "id": "0728f78c",
   "metadata": {},
   "outputs": [
    {
     "name": "stdout",
     "output_type": "stream",
     "text": [
      "Enter the number3\n",
      "number is not divisible by 2 odd\n"
     ]
    }
   ],
   "source": [
    "#2.check whether the number is odd or even\n",
    "n = int(input('Enter the number'))\n",
    "if n%2 == 0:\n",
    "    print(\"Number is divisible by 2 even\")\n",
    "else:\n",
    "    print(\"number is not divisible by 2 odd\")\n",
    "    "
   ]
  },
  {
   "cell_type": "code",
   "execution_count": 10,
   "id": "be95c85f",
   "metadata": {},
   "outputs": [
    {
     "name": "stdout",
     "output_type": "stream",
     "text": [
      "Enter the number-5\n",
      "number is equal to negative\n"
     ]
    }
   ],
   "source": [
    "#3. Check whether the given number is postive, negative or equal to zero\n",
    "a = int(input(\"Enter the number\"))\n",
    "if a>0:\n",
    "    print(\"number is postive\")\n",
    "elif a == 0:\n",
    "    print(\"number is equal to zero\")\n",
    "else:\n",
    "    print(\"number is equal to negative\")\n",
    "    \n"
   ]
  },
  {
   "cell_type": "code",
   "execution_count": 24,
   "id": "f46a9072",
   "metadata": {},
   "outputs": [
    {
     "name": "stdout",
     "output_type": "stream",
     "text": [
      "Enter a String: python\n",
      "a is not present in python\n"
     ]
    }
   ],
   "source": [
    "#4.check whether 'a' is in 'python' string or not\n",
    "v = input(\"Enter a String: \")\n",
    "\n",
    "if 'a' in v:\n",
    "    print(\"a is present in python\")\n",
    "else:\n",
    "    print(\"a is not present in python\")"
   ]
  },
  {
   "cell_type": "code",
   "execution_count": 19,
   "id": "26d9e6b5",
   "metadata": {},
   "outputs": [
    {
     "name": "stdout",
     "output_type": "stream",
     "text": [
      "Enter the number8\n",
      "Enter the number4\n",
      "Enter the number3\n",
      "a is grater number\n"
     ]
    }
   ],
   "source": [
    "#5.Fint the largest number among three number with user input\n",
    "a = int(input(\"Enter the number\"))\n",
    "b = int(input(\"Enter the number\"))\n",
    "c = int(input(\"Enter the number\"))\n",
    "if a>b and a>c:\n",
    "    print(\"a is grater number\")\n",
    "else: \n",
    "    print(\"a is leser than b and c\")\n",
    "    \n",
    "    \n"
   ]
  },
  {
   "cell_type": "code",
   "execution_count": null,
   "id": "58b340af",
   "metadata": {},
   "outputs": [],
   "source": []
  }
 ],
 "metadata": {
  "kernelspec": {
   "display_name": "Python 3 (ipykernel)",
   "language": "python",
   "name": "python3"
  },
  "language_info": {
   "codemirror_mode": {
    "name": "ipython",
    "version": 3
   },
   "file_extension": ".py",
   "mimetype": "text/x-python",
   "name": "python",
   "nbconvert_exporter": "python",
   "pygments_lexer": "ipython3",
   "version": "3.9.7"
  }
 },
 "nbformat": 4,
 "nbformat_minor": 5
}
