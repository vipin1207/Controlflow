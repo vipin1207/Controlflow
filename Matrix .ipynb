{
 "cells": [
  {
   "cell_type": "code",
   "execution_count": 3,
   "id": "b2f4f72f",
   "metadata": {},
   "outputs": [
    {
     "name": "stdout",
     "output_type": "stream",
     "text": [
      "[6, 8]\n",
      "[9, 11]\n"
     ]
    }
   ],
   "source": [
    "#1. Add a matrix of 2*2 using nested loop and list comprehension\n",
    "#nested loop method:-\n",
    "X = [[1,2],\n",
    "     [3,4]]\n",
    "Y = [[5,6],\n",
    "     [6,7]]\n",
    "result = [[0,0],\n",
    "         [0,0]]\n",
    "for i in range(len(X)):\n",
    "    for j in range(len(X)):\n",
    "        result[i][j] = X[i][j] + Y[i][j]\n",
    "for r in result:\n",
    "    print(r)\n"
   ]
  },
  {
   "cell_type": "code",
   "execution_count": 4,
   "id": "e7e16228",
   "metadata": {},
   "outputs": [
    {
     "name": "stdout",
     "output_type": "stream",
     "text": [
      "[6, 8]\n",
      "[9, 11]\n"
     ]
    }
   ],
   "source": [
    "#1.1 using list comprension method:-\n",
    "X = [[1,2],\n",
    "     [3,4]]\n",
    "Y = [[5,6],\n",
    "     [6,7]]\n",
    "result = [[X[i] [j] + Y[i][j] for j in range(len(X[0]))] for i in range(len(X))]\n",
    "for r in result:\n",
    "    print(r)\n"
   ]
  },
  {
   "cell_type": "code",
   "execution_count": 7,
   "id": "daa86500",
   "metadata": {},
   "outputs": [
    {
     "name": "stdout",
     "output_type": "stream",
     "text": [
      "[8, 6, 4, 2]\n",
      "[6, 4, 2, 0]\n",
      "[4, 2, 1, -2]\n",
      "[2, 0, -2, -4]\n"
     ]
    }
   ],
   "source": [
    "#2.Program to substract matrix of 4*4 using loop and list comprehension\n",
    "# nested loop method:-\n",
    "X = [[9,8,7,6],\n",
    "     [8,7,6,5],\n",
    "     [7,6,6,4],\n",
    "     [6,5,4,3]]\n",
    "Y = [[1,2,3,4],\n",
    "     [2,3,4,5],\n",
    "     [3,4,5,6],\n",
    "     [4,5,6,7]]\n",
    "result = [[0,0,0,0],\n",
    "          [0,0,0,0],\n",
    "          [0,0,0,0],\n",
    "          [0,0,0,0]]\n",
    "for i in range(len(X)):\n",
    "    for j in range(len(X)):\n",
    "        result[i][j] = X[i][j] - Y[i][j]\n",
    "for r in result:\n",
    "    print(r)"
   ]
  },
  {
   "cell_type": "code",
   "execution_count": 11,
   "id": "d8eef617",
   "metadata": {},
   "outputs": [
    {
     "name": "stdout",
     "output_type": "stream",
     "text": [
      "[8, 6, 4, 2]\n",
      "[6, 4, 2, 0]\n",
      "[4, 2, 1, -2]\n",
      "[2, 0, -2, -4]\n"
     ]
    }
   ],
   "source": [
    "#2.1 list comprehension method:-\n",
    "X = [[9,8,7,6],\n",
    "     [8,7,6,5],\n",
    "     [7,6,6,4],\n",
    "     [6,5,4,3]]\n",
    "Y = [[1,2,3,4],\n",
    "     [2,3,4,5],\n",
    "     [3,4,5,6],\n",
    "     [4,5,6,7]]\n",
    "result = [[X[i][j] - Y[i][j] for j in range(len(X[0]))] for i in range(len(X))]\n",
    "for r in result:\n",
    "    print(r)\n"
   ]
  },
  {
   "cell_type": "code",
   "execution_count": 12,
   "id": "f0416d25",
   "metadata": {},
   "outputs": [
    {
     "name": "stdout",
     "output_type": "stream",
     "text": [
      "[1, 2]\n",
      "[2, 3]\n",
      "[3, 4]\n"
     ]
    }
   ],
   "source": [
    "#3. program to find the transpose of a matrix:\n",
    "#(a). \n",
    "X =[[1,2,3],\n",
    "    [2,3,4]]\n",
    "result = [[0,0],\n",
    "          [0,0],\n",
    "          [0,0]]\n",
    "for i in range(len(X)):\n",
    "    for j in range(len(X[0])):\n",
    "        result[j][i] = X[i][j]\n",
    "for r in result:\n",
    "    print(r)"
   ]
  },
  {
   "cell_type": "code",
   "execution_count": 13,
   "id": "c420f482",
   "metadata": {},
   "outputs": [
    {
     "name": "stdout",
     "output_type": "stream",
     "text": [
      "[2, 4, 6]\n",
      "[3, 5, 7]\n",
      "[4, 6, 8]\n",
      "[5, 7, 9]\n"
     ]
    }
   ],
   "source": [
    "#(b).\n",
    "Y = [[2,3,4,5],\n",
    "     [4,5,6,7],\n",
    "     [6,7,8,9]]\n",
    "result = [[0,0,0],\n",
    "          [0,0,0],\n",
    "          [0,0,0],\n",
    "          [0,0,0]]\n",
    "for i in range(len(Y)):\n",
    "    for j in range(len(Y[0])):\n",
    "        result[j][i] = Y[i][j]\n",
    "for r in result:\n",
    "    print(r)"
   ]
  },
  {
   "cell_type": "code",
   "execution_count": 14,
   "id": "103a98ea",
   "metadata": {},
   "outputs": [
    {
     "name": "stdout",
     "output_type": "stream",
     "text": [
      "[70, 100, 130, 160]\n",
      "[60, 86, 112, 138]\n",
      "[50, 72, 94, 116]\n",
      "[40, 58, 76, 94]\n"
     ]
    }
   ],
   "source": [
    "#4.program to find the multiplication of the matrix\n",
    "\n",
    "X= [[9,8,7,6],\n",
    "    [8,7,6,5],\n",
    "    [7,6,5,4],\n",
    "    [6,5,4,3]]\n",
    " \n",
    "Y = [[1,2,3,4],\n",
    "     [2,3,4,5],\n",
    "     [3,4,5,6],\n",
    "     [4,5,6,7]]\n",
    "result = [[0,0,0,0],\n",
    "          [0,0,0,0],\n",
    "          [0,0,0,0],\n",
    "          [0,0,0,0]]\n",
    "for i in range(len(X)):\n",
    "    for j in range(len(Y[0])):\n",
    "        for k in range(len(Y)):\n",
    "            result[i][j] += X[i][k]*Y[k][j]\n",
    "for r in result:\n",
    "    print(r)\n",
    "    "
   ]
  },
  {
   "cell_type": "code",
   "execution_count": 16,
   "id": "eeeb3340",
   "metadata": {},
   "outputs": [
    {
     "name": "stdout",
     "output_type": "stream",
     "text": [
      "[5, 5]\n",
      "[11, 8]\n"
     ]
    }
   ],
   "source": [
    "#5.Add a matrix of 2*2 using nested loop and list comprehension \n",
    "# Nested loop\n",
    "X = [[2,4],\n",
    "     [5,6]]\n",
    "Y = [[3,1],\n",
    "     [6,2]]\n",
    "result = [[0,0],\n",
    "          [0,0]]\n",
    "for i in range(len(X)):\n",
    "    for j in range(len(X)):\n",
    "        result[i][j] = X[i][j] + Y[i][j]\n",
    "for r in result:\n",
    "    print(r)"
   ]
  },
  {
   "cell_type": "code",
   "execution_count": 18,
   "id": "06bdda89",
   "metadata": {},
   "outputs": [
    {
     "name": "stdout",
     "output_type": "stream",
     "text": [
      "[5, 5]\n",
      "[11, 8]\n"
     ]
    }
   ],
   "source": [
    "#5.1 list compreshension\n",
    "X = [[2,4],\n",
    "     [5,6]]\n",
    "Y = [[3,1],\n",
    "     [6,2]]\n",
    "result = [[X[i][j] + Y[i][j] for j in range(len(X[0]))] for i in range(len(X))]\n",
    "for r in result:\n",
    "    print(r)\n",
    "        \n",
    "          "
   ]
  },
  {
   "cell_type": "code",
   "execution_count": null,
   "id": "b6c277d2",
   "metadata": {},
   "outputs": [],
   "source": []
  }
 ],
 "metadata": {
  "kernelspec": {
   "display_name": "Python 3 (ipykernel)",
   "language": "python",
   "name": "python3"
  },
  "language_info": {
   "codemirror_mode": {
    "name": "ipython",
    "version": 3
   },
   "file_extension": ".py",
   "mimetype": "text/x-python",
   "name": "python",
   "nbconvert_exporter": "python",
   "pygments_lexer": "ipython3",
   "version": "3.9.7"
  }
 },
 "nbformat": 4,
 "nbformat_minor": 5
}
