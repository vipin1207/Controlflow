{
 "cells": [
  {
   "cell_type": "code",
   "execution_count": 4,
   "id": "5704ed10",
   "metadata": {},
   "outputs": [
    {
     "name": "stdout",
     "output_type": "stream",
     "text": [
      "Enter the side of triangle is a : 12\n",
      "Enter the side of triangle is b : 13\n",
      "Enter the side of triangle is c : 20\n",
      " Triangle is possible \n"
     ]
    }
   ],
   "source": [
    "#4.Accept three sides of triangle and check whether the triangle is possible or not\n",
    "a = int(input(\"Enter the side of triangle is a : \"))\n",
    "b = int(input(\"Enter the side of triangle is b : \"))\n",
    "c = int(input(\"Enter the side of triangle is c : \"))\n",
    "if a + b>c:\n",
    "    print(\" Triangle is possible \")\n",
    "else:\n",
    "    print(\" Triangle is not possible\")\n",
    "    \n",
    "    "
   ]
  },
  {
   "cell_type": "code",
   "execution_count": null,
   "id": "d9f531fa",
   "metadata": {},
   "outputs": [],
   "source": []
  }
 ],
 "metadata": {
  "kernelspec": {
   "display_name": "Python 3 (ipykernel)",
   "language": "python",
   "name": "python3"
  },
  "language_info": {
   "codemirror_mode": {
    "name": "ipython",
    "version": 3
   },
   "file_extension": ".py",
   "mimetype": "text/x-python",
   "name": "python",
   "nbconvert_exporter": "python",
   "pygments_lexer": "ipython3",
   "version": "3.9.7"
  }
 },
 "nbformat": 4,
 "nbformat_minor": 5
}
