{
 "cells": [
  {
   "cell_type": "code",
   "execution_count": 1,
   "id": "4955e6bf",
   "metadata": {},
   "outputs": [
    {
     "name": "stdout",
     "output_type": "stream",
     "text": [
      "Enter year1900\n",
      "1900 is not leap year\n"
     ]
    }
   ],
   "source": [
    "#9.check whether year is leap year or not\n",
    "year = int(input(\"Enter year\"))\n",
    "if(year%4 ==0 and year%100!=0):\n",
    "    print(\"year is leap year\")\n",
    "elif(year%400==0 and year%100!=0):\n",
    "    print(year, 'is leap year')\n",
    "else:\n",
    "    print(year,\"is not leap year\")\n",
    "\n"
   ]
  },
  {
   "cell_type": "code",
   "execution_count": 4,
   "id": "e1f14bb4",
   "metadata": {},
   "outputs": [
    {
     "name": "stdout",
     "output_type": "stream",
     "text": [
      "Enter a letterp\n",
      "p is not vowel\n"
     ]
    }
   ],
   "source": [
    "#10.Check wheather the letter is vowel or not\n",
    "vowel =('a','e','i','o','u')\n",
    "vow = input(\"Enter a letter\")\n",
    "if vow in vowel:\n",
    "    print(vow,'is vowel')\n",
    "else:\n",
    "    print(vow, 'is not vowel')\n",
    "\n",
    "    \n",
    "\n"
   ]
  },
  {
   "cell_type": "code",
   "execution_count": 3,
   "id": "64398385",
   "metadata": {},
   "outputs": [
    {
     "name": "stdout",
     "output_type": "stream",
     "text": [
      "[('Sunday', 1), ('Monday', 2), ('Tuesday', 3), ('Wensday', 4), ('Thursday', 5), ('Friday', 6), ('Suterday', 7)]\n"
     ]
    }
   ],
   "source": [
    "#11.write a program to accept the number from 1 to 7 and display the number of the day like 1 for sunday 2 for monday\n",
    "#and so on\n",
    "Day = [\"Sunday\",\"Monday\",\"Tuesday\",\"Wensday\",\"Thursday\",\"Friday\",\"Suterday\"]\n",
    "number = [1,2,3,4,5,6,7]\n",
    "star = zip(Day,number)\n",
    "star = list(star)\n",
    "print(star)"
   ]
  },
  {
   "cell_type": "code",
   "execution_count": 2,
   "id": "d5b63354",
   "metadata": {},
   "outputs": [
    {
     "name": "stdout",
     "output_type": "stream",
     "text": [
      "Enter the length of fig15\n",
      "Enter the breath  of fig15\n",
      "the Fig is square\n"
     ]
    }
   ],
   "source": [
    "#12. Check wheather the fig is square or not by giving length and breath\n",
    "l =int(input(\"Enter the length of fig\"))\n",
    "b =int(input(\"Enter the breath  of fig\"))\n",
    "if l==b:\n",
    "    print(\"the Fig is square\")\n",
    "else:\n",
    "    print(\"the fig is Rectangle\")\n",
    "    \n",
    "\n"
   ]
  },
  {
   "cell_type": "code",
   "execution_count": null,
   "id": "537c914c",
   "metadata": {},
   "outputs": [],
   "source": []
  }
 ],
 "metadata": {
  "kernelspec": {
   "display_name": "Python 3 (ipykernel)",
   "language": "python",
   "name": "python3"
  },
  "language_info": {
   "codemirror_mode": {
    "name": "ipython",
    "version": 3
   },
   "file_extension": ".py",
   "mimetype": "text/x-python",
   "name": "python",
   "nbconvert_exporter": "python",
   "pygments_lexer": "ipython3",
   "version": "3.9.7"
  }
 },
 "nbformat": 4,
 "nbformat_minor": 5
}
