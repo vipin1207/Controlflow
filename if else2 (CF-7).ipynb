{
 "cells": [
  {
   "cell_type": "code",
   "execution_count": 16,
   "id": "27a299fa",
   "metadata": {},
   "outputs": [
    {
     "name": "stdout",
     "output_type": "stream",
     "text": [
      "Enter electric bill in unit : 210\n",
      "20\n"
     ]
    }
   ],
   "source": [
    "#To calculate the electric bill in unit\n",
    "u =int(input(\"Enter electric bill in unit : \"))\n",
    "if u<100:\n",
    "    print(\" no charge per unit \")\n",
    "elif u>=100 and u<=300:\n",
    "    amount=(u-200)*2\n",
    "    print(amount)\n",
    "elif u>=300:\n",
    "    amount=0+400+(u-300)*5\n",
    "    print(amount)\n",
    "else:\n",
    "    print(\"invalid amount\")\n",
    "\n",
    "    \n",
    "\n"
   ]
  },
  {
   "cell_type": "code",
   "execution_count": null,
   "id": "5cddf338",
   "metadata": {},
   "outputs": [],
   "source": []
  }
 ],
 "metadata": {
  "kernelspec": {
   "display_name": "Python 3 (ipykernel)",
   "language": "python",
   "name": "python3"
  },
  "language_info": {
   "codemirror_mode": {
    "name": "ipython",
    "version": 3
   },
   "file_extension": ".py",
   "mimetype": "text/x-python",
   "name": "python",
   "nbconvert_exporter": "python",
   "pygments_lexer": "ipython3",
   "version": "3.9.7"
  }
 },
 "nbformat": 4,
 "nbformat_minor": 5
}
