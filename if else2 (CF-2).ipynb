{
 "cells": [
  {
   "cell_type": "code",
   "execution_count": 1,
   "id": "c3166686",
   "metadata": {},
   "outputs": [
    {
     "name": "stdout",
     "output_type": "stream",
     "text": [
      "Enter percentage of user60\n",
      " Grad of user B+\n"
     ]
    }
   ],
   "source": [
    "#1.Accept the percentage from the user and display the grade According to the following criteria:\n",
    "per =int(input(\"Enter percentage of user\"))\n",
    "if per<25:\n",
    "    print(\"Grad of user D\")\n",
    "elif per>=25 and per<=45:\n",
    "    print(\"Grad of user C\")\n",
    "elif per>=45 and per<=50:\n",
    "    print(\" Grad of user B\")\n",
    "elif per>=50 and per<=60:\n",
    "    print(\" Grad of user B+\")\n",
    "elif per>=60 and per<=80:\n",
    "    print(\"Grad of user A\")\n",
    "elif per>80:\n",
    "    print(\"Grad of user A+\")\n",
    "else:\n",
    "    print(\"Invalid\")\n",
    "\n"
   ]
  },
  {
   "cell_type": "code",
   "execution_count": null,
   "id": "e8cfcded",
   "metadata": {},
   "outputs": [],
   "source": []
  }
 ],
 "metadata": {
  "kernelspec": {
   "display_name": "Python 3 (ipykernel)",
   "language": "python",
   "name": "python3"
  },
  "language_info": {
   "codemirror_mode": {
    "name": "ipython",
    "version": 3
   },
   "file_extension": ".py",
   "mimetype": "text/x-python",
   "name": "python",
   "nbconvert_exporter": "python",
   "pygments_lexer": "ipython3",
   "version": "3.9.7"
  }
 },
 "nbformat": 4,
 "nbformat_minor": 5
}
