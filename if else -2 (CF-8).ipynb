{
 "cells": [
  {
   "cell_type": "code",
   "execution_count": 1,
   "id": "7b1c6cb0",
   "metadata": {},
   "outputs": [
    {
     "name": "stdout",
     "output_type": "stream",
     "text": [
      "Enter number of days 10\n",
      "Total amount to pay is  30\n"
     ]
    }
   ],
   "source": [
    "#10. Ask the user to enter the number of days attended the library\n",
    "nd = int(input(\"Enter number of days \"))\n",
    "\n",
    "# State the condition and the price \n",
    "if nd <= 5:\n",
    "    amt = nd * 2\n",
    "elif nd >=6 and nd <=10:\n",
    "    amt = nd * 3\n",
    "elif nd >= 11 and nd <= 15:\n",
    "    amt = nd * 4\n",
    "else:\n",
    "    amt = nd * 5\n",
    "\n",
    "# Print the total amount to pay to librarian \n",
    "print(\"Total amount to pay is \", amt)"
   ]
  },
  {
   "cell_type": "code",
   "execution_count": null,
   "id": "9f9ef2ed",
   "metadata": {},
   "outputs": [],
   "source": []
  }
 ],
 "metadata": {
  "kernelspec": {
   "display_name": "Python 3 (ipykernel)",
   "language": "python",
   "name": "python3"
  },
  "language_info": {
   "codemirror_mode": {
    "name": "ipython",
    "version": 3
   },
   "file_extension": ".py",
   "mimetype": "text/x-python",
   "name": "python",
   "nbconvert_exporter": "python",
   "pygments_lexer": "ipython3",
   "version": "3.9.7"
  }
 },
 "nbformat": 4,
 "nbformat_minor": 5
}
