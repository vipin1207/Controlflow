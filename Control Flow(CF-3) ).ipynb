{
 "cells": [
  {
   "cell_type": "code",
   "execution_count": 4,
   "id": "57f98f4d",
   "metadata": {},
   "outputs": [
    {
     "name": "stdout",
     "output_type": "stream",
     "text": [
      "Enter total number of working day678\n",
      "Enter total number of Absent day500\n",
      "Your Attendent is 604.2536873156342\n",
      "You are eligible for exam\n"
     ]
    }
   ],
   "source": [
    "#6.Accept the following from the user and calculate the percentage of class attendent:\n",
    "# a. Total number of working days\n",
    "#b. Total number of day for presents\n",
    "#After calculating percentage show that,if percentage is less than 75, than student will not be able to sit in exam\n",
    "nd = int(input(\"Enter total number of working day\"))\n",
    "na = int(input(\"Enter total number of Absent day\"))\n",
    "per = nd-na/nd*100\n",
    "print(\"Your Attendent is\", per)\n",
    "if per<75:\n",
    "    print(\"You are not eligible for exam\")\n",
    "else:\n",
    "    print(\"You are eligible for exam\")\n",
    "    \n",
    "\n",
    "\n",
    "\n",
    "    \n",
    "\n"
   ]
  },
  {
   "cell_type": "code",
   "execution_count": 20,
   "id": "4e382501",
   "metadata": {},
   "outputs": [
    {
     "name": "stdout",
     "output_type": "stream",
     "text": [
      "{'Delhi': 'Redfort', 'Agra': 'Tajmahal', 'Jaipur': 'Jalmahal'}\n"
     ]
    }
   ],
   "source": [
    "#7.Accept any city from the user and display monument of that city\n",
    "dict ={'Delhi': \"Redfort\", \"Agra\": \"Tajmahal\",'Jaipur':\"Jalmahal\"}\n",
    "print(dict)"
   ]
  },
  {
   "cell_type": "code",
   "execution_count": 32,
   "id": "f6dab248",
   "metadata": {},
   "outputs": [
    {
     "name": "stdout",
     "output_type": "stream",
     "text": [
      "Enter age of person ?16\n",
      "person is not eligible for vote\n"
     ]
    }
   ],
   "source": [
    "#8.program to check whether a person is eligible to vote or not\n",
    "age= int(input(\"Enter age of person ?\"))\n",
    "if age>=18: \n",
    "    print(\"person eligible for vote\")\n",
    "else:\n",
    "    print(\"person is not eligible for vote\")\n",
    "        \n",
    "    \n",
    "    \n",
    "    \n"
   ]
  },
  {
   "cell_type": "code",
   "execution_count": null,
   "id": "357080a8",
   "metadata": {},
   "outputs": [],
   "source": []
  },
  {
   "cell_type": "code",
   "execution_count": null,
   "id": "3cd50143",
   "metadata": {},
   "outputs": [],
   "source": []
  }
 ],
 "metadata": {
  "kernelspec": {
   "display_name": "Python 3 (ipykernel)",
   "language": "python",
   "name": "python3"
  },
  "language_info": {
   "codemirror_mode": {
    "name": "ipython",
    "version": 3
   },
   "file_extension": ".py",
   "mimetype": "text/x-python",
   "name": "python",
   "nbconvert_exporter": "python",
   "pygments_lexer": "ipython3",
   "version": "3.9.7"
  }
 },
 "nbformat": 4,
 "nbformat_minor": 5
}
